{
 "cells": [
  {
   "cell_type": "code",
   "execution_count": 547,
   "metadata": {},
   "outputs": [],
   "source": [
    "import numpy as np\n",
    "import boto3\n",
    "import pandas as pd\n",
    "import math\n",
    "import matplotlib.pyplot as plt\n",
    "\n",
    "t_max = 1e-6\n",
    "micro_seconds = 1e-6\n",
    "micro_meter = 1e-6\n",
    "megahertz = 1e+6"
   ]
  },
  {
   "cell_type": "code",
   "execution_count": 3,
   "metadata": {},
   "outputs": [],
   "source": [
    "from braket.tracking import Tracker\n",
    "tracker = Tracker().start()"
   ]
  },
  {
   "cell_type": "code",
   "execution_count": 572,
   "metadata": {},
   "outputs": [
    {
     "data": {
      "text/plain": [
       "{<_QuEra.Aquila: 'arn:aws:braket:us-east-1::device/qpu/quera/Aquila'>: {'shots': 15000,\n",
       "  'tasks': {'QUEUED': 15}}}"
      ]
     },
     "execution_count": 572,
     "metadata": {},
     "output_type": "execute_result"
    }
   ],
   "source": [
    "tracker.quantum_tasks_statistics()"
   ]
  },
  {
   "cell_type": "code",
   "execution_count": null,
   "metadata": {},
   "outputs": [],
   "source": [
    "# tracker.qpu_tasks_cost()"
   ]
  },
  {
   "cell_type": "code",
   "execution_count": 762,
   "metadata": {},
   "outputs": [],
   "source": [
    "dataSet = \"FashionMNIST\"\n",
    "digitClass = 1\n",
    "noiseChoice = 2\n",
    "rabiPulse = \"trapezoidPulse\"\n",
    "detunePulse = \"gaussianPulse\"\n",
    "folder = \"pythonInput/\"+dataSet+\"_\"+str(digitClass)+\"/\" + rabiPulse + detunePulse + \"/\"\n"
   ]
  },
  {
   "cell_type": "code",
   "execution_count": 763,
   "metadata": {},
   "outputs": [],
   "source": [
    "# cosine pulse\n",
    "def cosinePulse(time, pulse_parameter, noise):\n",
    "    return ((pulse_parameter/2) * -math.cos(2 * 2 * math.pi * time) * noise) + (pulse_parameter/2)\n",
    "\n",
    "# exponential pulse\n",
    "def exponentialPulse(time, pulse_parameter, noise):\n",
    "    peakValue = pulse_parameter * noise\n",
    "    peakTime = 0.2 # needs to be changed in scale\n",
    "\n",
    "    if time <= peakTime:\n",
    "        val = (peakValue/peakTime) * time\n",
    "    else:\n",
    "        val = math.exp(-(time-peakTime)/0.2) * peakValue\n",
    "    \n",
    "    return val\n",
    "\n",
    "# linear pulse\n",
    "def linearPulse(time, pulse_parameter, noise):\n",
    "    start = 0\n",
    "    middle = (-2*math.pi) * 13 * noise\n",
    "\n",
    "    if time <= 0.1:\n",
    "        val = (middle/0.1) * time\n",
    "    elif (time > 0.1) & (time <= 0.2):\n",
    "        val = middle\n",
    "    elif (time > 0.2) & (time < 0.8):\n",
    "        val = (((pulse_parameter - middle)/0.6) * (time - 0.2)) + middle\n",
    "    elif (time >= 0.8) & (time <= 0.9):\n",
    "         val = pulse_parameter\n",
    "    elif time > 0.9:\n",
    "        val = pulse_parameter + ((start-pulse_parameter)/0.1) * (time-0.9)\n",
    "\n",
    "    return val\n",
    "\n",
    "# triangle pulse\n",
    "def trianglePulse(time, pulse_parameter, noise):\n",
    "    val = 0\n",
    "\n",
    "    if time < 0.5:\n",
    "        val = (pulse_parameter/0.5) * time\n",
    "    else:\n",
    "        val = ((-pulse_parameter/0.5) * time) + (2 * pulse_parameter)\n",
    "\n",
    "    return val\n",
    "\n",
    "# exponentialDecayPulse\n",
    "def exponentialDecayPulse(time, pulse_parameter, noise):\n",
    "    peakValue = -120.0 * noise\n",
    "    peakTime = 0.2 # needs to be changed in scale\n",
    "\n",
    "    if time <= peakTime:\n",
    "        val = (peakValue/peakTime) * time\n",
    "    else:\n",
    "        val = peakValue * math.exp(-(time-peakTime)*pulse_parameter**2)\n",
    "    return val\n",
    "\n",
    "# guassian Pulse\n",
    "def guassianPulse(time, pulse_parameter, noise):\n",
    "    return pulse_parameter * math.exp(-((time-0.5)**2)/(0.01*noise)) # order of events\n",
    "\n",
    "# trapezoid Pulse\n",
    "def trapezoidPulse(time, pulse_parameter, noise):\n",
    "    risingTime = 0.1 * noise # needs to be changed for scale\n",
    "\n",
    "    if time <= risingTime:\n",
    "        val = (pulse_parameter/risingTime) * time\n",
    "    elif (time > risingTime) & (time < (1.0-risingTime)):\n",
    "        val = pulse_parameter\n",
    "    else:\n",
    "        val = -(pulse_parameter/risingTime) * (time - 1.0)\n",
    "\n",
    "\n",
    "    return val"
   ]
  },
  {
   "cell_type": "code",
   "execution_count": 764,
   "metadata": {},
   "outputs": [],
   "source": [
    "pulse_dictionary = {'sinPulse':cosinePulse, 'expPulse':exponentialPulse, 'linearPulse':linearPulse,\n",
    "                    'trianglePulse':trianglePulse, 'expDecayPulse':exponentialDecayPulse, 'gaussianPulse':guassianPulse,\n",
    "                    'trapezoidPulse':trapezoidPulse}\n"
   ]
  },
  {
   "cell_type": "code",
   "execution_count": null,
   "metadata": {},
   "outputs": [],
   "source": []
  },
  {
   "cell_type": "code",
   "execution_count": 765,
   "metadata": {},
   "outputs": [],
   "source": [
    "from braket.timings.time_series import TimeSeries\n",
    "\n",
    "def getTimeSeries(pulse_shape_data, noise_data, pulse_parameter_data, value_count, start_time=0, end_time=1):\n",
    "    \n",
    "    times = np.linspace(start=start_time, stop=end_time, num=value_count, endpoint=True)\n",
    "         \n",
    "    results = {'rabi_ts':None, 'lcl_detune_ts':None}\n",
    "    for i in range(2):\n",
    "        values = []\n",
    "        pulseName = pulse_shape_data.iloc[0,i]\n",
    "        pulseParameter = pulse_parameter_data.iloc[0,i]\n",
    "        pulseNoise = noise_data.iloc[i, 0]\n",
    "        \n",
    "        for t in times:\n",
    "            values.append(pulse_dictionary[pulseName](time=t, pulse_parameter=pulseParameter, noise=pulseNoise))\n",
    "        \n",
    "        values[19] = 0.0\n",
    "        values[0] = 0.0\n",
    "        results[list(results.keys())[i]] = values\n",
    "        \n",
    "\n",
    "    times = times * micro_seconds\n",
    "    \n",
    "    # print(len(results['rabi_ts']))\n",
    "    # print(len(np.array(results['rabi_ts'])*megahertz))\n",
    "    # return times, results\n",
    "    return times , TimeSeries.from_lists(times=times, values=np.array(results['rabi_ts'])*megahertz), TimeSeries.from_lists(times=times, values=np.array(results['lcl_detune_ts'])*megahertz)"
   ]
  },
  {
   "cell_type": "code",
   "execution_count": null,
   "metadata": {},
   "outputs": [],
   "source": []
  },
  {
   "cell_type": "code",
   "execution_count": 766,
   "metadata": {},
   "outputs": [],
   "source": [
    "# note, choose noise seed based on csv file\n",
    "if noiseChoice == 2:\n",
    "    noise = pd.read_csv(folder+\"noise2.csv\")\n",
    "else:\n",
    "    noise = pd.read_csv(folder+\"noise.csv\")\n",
    "\n",
    "params = pd.read_csv(folder+\"params.csv\", index_col=False)\n",
    "pattern = pd.read_csv(folder+\"pattern.csv\")\n",
    "positions = pd.read_csv(folder+\"positions.csv\")\n",
    "pulseNames = pd.read_csv(folder+\"pulseNames.csv\", index_col=False)\n",
    "\n"
   ]
  },
  {
   "cell_type": "code",
   "execution_count": 767,
   "metadata": {},
   "outputs": [
    {
     "data": {
      "text/html": [
       "<div>\n",
       "<style scoped>\n",
       "    .dataframe tbody tr th:only-of-type {\n",
       "        vertical-align: middle;\n",
       "    }\n",
       "\n",
       "    .dataframe tbody tr th {\n",
       "        vertical-align: top;\n",
       "    }\n",
       "\n",
       "    .dataframe thead th {\n",
       "        text-align: right;\n",
       "    }\n",
       "</style>\n",
       "<table border=\"1\" class=\"dataframe\">\n",
       "  <thead>\n",
       "    <tr style=\"text-align: right;\">\n",
       "      <th></th>\n",
       "      <th>noise</th>\n",
       "    </tr>\n",
       "  </thead>\n",
       "  <tbody>\n",
       "    <tr>\n",
       "      <th>0</th>\n",
       "      <td>0.250287</td>\n",
       "    </tr>\n",
       "    <tr>\n",
       "      <th>1</th>\n",
       "      <td>0.328475</td>\n",
       "    </tr>\n",
       "    <tr>\n",
       "      <th>2</th>\n",
       "      <td>0.575789</td>\n",
       "    </tr>\n",
       "  </tbody>\n",
       "</table>\n",
       "</div>"
      ],
      "text/plain": [
       "      noise\n",
       "0  0.250287\n",
       "1  0.328475\n",
       "2  0.575789"
      ]
     },
     "execution_count": 767,
     "metadata": {},
     "output_type": "execute_result"
    }
   ],
   "source": [
    "noise"
   ]
  },
  {
   "cell_type": "code",
   "execution_count": 768,
   "metadata": {},
   "outputs": [
    {
     "data": {
      "text/html": [
       "<div>\n",
       "<style scoped>\n",
       "    .dataframe tbody tr th:only-of-type {\n",
       "        vertical-align: middle;\n",
       "    }\n",
       "\n",
       "    .dataframe tbody tr th {\n",
       "        vertical-align: top;\n",
       "    }\n",
       "\n",
       "    .dataframe thead th {\n",
       "        text-align: right;\n",
       "    }\n",
       "</style>\n",
       "<table border=\"1\" class=\"dataframe\">\n",
       "  <thead>\n",
       "    <tr style=\"text-align: right;\">\n",
       "      <th></th>\n",
       "      <th>x</th>\n",
       "      <th>y</th>\n",
       "    </tr>\n",
       "  </thead>\n",
       "  <tbody>\n",
       "    <tr>\n",
       "      <th>0</th>\n",
       "      <td>74.999900</td>\n",
       "      <td>44.512324</td>\n",
       "    </tr>\n",
       "    <tr>\n",
       "      <th>1</th>\n",
       "      <td>32.456927</td>\n",
       "      <td>63.075383</td>\n",
       "    </tr>\n",
       "    <tr>\n",
       "      <th>2</th>\n",
       "      <td>59.691486</td>\n",
       "      <td>43.955420</td>\n",
       "    </tr>\n",
       "    <tr>\n",
       "      <th>3</th>\n",
       "      <td>48.468808</td>\n",
       "      <td>52.916638</td>\n",
       "    </tr>\n",
       "  </tbody>\n",
       "</table>\n",
       "</div>"
      ],
      "text/plain": [
       "           x          y\n",
       "0  74.999900  44.512324\n",
       "1  32.456927  63.075383\n",
       "2  59.691486  43.955420\n",
       "3  48.468808  52.916638"
      ]
     },
     "execution_count": 768,
     "metadata": {},
     "output_type": "execute_result"
    }
   ],
   "source": [
    "positions"
   ]
  },
  {
   "cell_type": "code",
   "execution_count": 769,
   "metadata": {},
   "outputs": [
    {
     "name": "stderr",
     "output_type": "stream",
     "text": [
      "/var/folders/l3/13yv8vgs5pz0dpt_4vcdbxvw0000gn/T/ipykernel_24472/1501864104.py:20: FutureWarning: ChainedAssignmentError: behaviour will change in pandas 3.0!\n",
      "You are setting values through chained assignment. Currently this works in certain cases, but when using Copy-on-Write (which will become the default behaviour in pandas 3.0) this will never work to update the original DataFrame or Series, because the intermediate object on which we are setting values will behave as a copy.\n",
      "A typical example is when you are setting values in a column of a DataFrame, like:\n",
      "\n",
      "df[\"col\"][row_indexer] = value\n",
      "\n",
      "Use `df.loc[row_indexer, \"col\"] = values` instead, to perform the assignment in a single step and ensure this keeps updating the original `df`.\n",
      "\n",
      "See the caveats in the documentation: https://pandas.pydata.org/pandas-docs/stable/user_guide/indexing.html#returning-a-view-versus-a-copy\n",
      "\n",
      "  positions[\"y\"][0] = positions[\"y\"][2]\n"
     ]
    }
   ],
   "source": [
    "# Due to the limited spatial resolution of Aquila, it is sometimes necessary to slightly adjust the positions of the atoms by a small amount\n",
    "\n",
    "if folder == 'pythonInput/MNIST_0/trapezoidPulsetrianglePulse/':\n",
    "    positions[\"y\"][0] = positions[\"y\"][2]\n",
    "elif folder == 'pythonInput/FashionMNIST_0/trapezoidPulsetrianglePulse/':\n",
    "    separation = 2.0 - np.abs(positions[\"y\"][2] - positions[\"y\"][3])\n",
    "    \n",
    "    positions[\"y\"][2] = positions[\"y\"][2] + separation / 2.0\n",
    "    positions[\"y\"][3] = positions[\"y\"][3] - separation / 2.0\n",
    "elif folder == 'pythonInput/FashionMNIST_9/trapezoidPulseexpPulse/':\n",
    "    separation = 2.0 - np.abs(positions[\"y\"][2] - positions[\"y\"][0])\n",
    "    \n",
    "    positions[\"y\"][2] = positions[\"y\"][2] - separation / 2.0\n",
    "    positions[\"y\"][0] = positions[\"y\"][0] + separation / 2.0\n",
    "elif folder == 'pythonInput/FashionMNIST_9/trianglePulsetrapezoidPulse/':\n",
    "    separation = 2.0 - np.abs(positions[\"y\"][2] - positions[\"y\"][0])\n",
    "    \n",
    "    positions[\"y\"][2] = positions[\"y\"][2] + separation / 2.0\n",
    "    positions[\"y\"][0] = positions[\"y\"][0] - separation / 2.0\n",
    "\n",
    "elif folder == 'pythonInput/FashionMNIST_1/trapezoidPulsegaussianPulse/':\n",
    "    positions[\"y\"][0] = positions[\"y\"][2]\n",
    "\n",
    "elif folder == 'pythonInput/FashionMNIST_1/trapezoidPulselinearPulse/':\n",
    "    \n",
    "    positions[\"y\"][3] = positions[\"y\"][0]\n",
    "    "
   ]
  },
  {
   "cell_type": "code",
   "execution_count": 746,
   "metadata": {},
   "outputs": [
    {
     "data": {
      "text/plain": [
       "'pythonInput/FashionMNIST_1/trapezoidPulselinearPulse/'"
      ]
     },
     "execution_count": 746,
     "metadata": {},
     "output_type": "execute_result"
    }
   ],
   "source": [
    "folder"
   ]
  },
  {
   "cell_type": "code",
   "execution_count": 747,
   "metadata": {},
   "outputs": [
    {
     "data": {
      "text/html": [
       "<div>\n",
       "<style scoped>\n",
       "    .dataframe tbody tr th:only-of-type {\n",
       "        vertical-align: middle;\n",
       "    }\n",
       "\n",
       "    .dataframe tbody tr th {\n",
       "        vertical-align: top;\n",
       "    }\n",
       "\n",
       "    .dataframe thead th {\n",
       "        text-align: right;\n",
       "    }\n",
       "</style>\n",
       "<table border=\"1\" class=\"dataframe\">\n",
       "  <thead>\n",
       "    <tr style=\"text-align: right;\">\n",
       "      <th></th>\n",
       "      <th>x</th>\n",
       "      <th>y</th>\n",
       "    </tr>\n",
       "  </thead>\n",
       "  <tbody>\n",
       "    <tr>\n",
       "      <th>0</th>\n",
       "      <td>74.999900</td>\n",
       "      <td>74.204899</td>\n",
       "    </tr>\n",
       "    <tr>\n",
       "      <th>1</th>\n",
       "      <td>68.606876</td>\n",
       "      <td>50.048795</td>\n",
       "    </tr>\n",
       "    <tr>\n",
       "      <th>2</th>\n",
       "      <td>74.673674</td>\n",
       "      <td>59.638859</td>\n",
       "    </tr>\n",
       "    <tr>\n",
       "      <th>3</th>\n",
       "      <td>54.137528</td>\n",
       "      <td>74.204899</td>\n",
       "    </tr>\n",
       "  </tbody>\n",
       "</table>\n",
       "</div>"
      ],
      "text/plain": [
       "           x          y\n",
       "0  74.999900  74.204899\n",
       "1  68.606876  50.048795\n",
       "2  74.673674  59.638859\n",
       "3  54.137528  74.204899"
      ]
     },
     "execution_count": 747,
     "metadata": {},
     "output_type": "execute_result"
    }
   ],
   "source": [
    "positions"
   ]
  },
  {
   "cell_type": "code",
   "execution_count": 748,
   "metadata": {},
   "outputs": [],
   "source": [
    "time, results_RF, results_lclDetune = getTimeSeries(pulseNames, noise, params, value_count=20)"
   ]
  },
  {
   "cell_type": "code",
   "execution_count": 752,
   "metadata": {},
   "outputs": [],
   "source": [
    "from braket.ahs.hamiltonian import Hamiltonian\n",
    "from braket.ahs.atom_arrangement import AtomArrangement\n",
    "from braket.ahs.analog_hamiltonian_simulation import AnalogHamiltonianSimulation\n",
    "\n",
    "register = AtomArrangement()\n",
    "H = Hamiltonian()\n",
    "\n",
    "ahs_program = AnalogHamiltonianSimulation(\n",
    "    hamiltonian=H,\n",
    "    register=register\n",
    ")"
   ]
  },
  {
   "cell_type": "code",
   "execution_count": 753,
   "metadata": {},
   "outputs": [
    {
     "data": {
      "text/plain": [
       "<braket.ahs.atom_arrangement.AtomArrangement at 0x118c98dd0>"
      ]
     },
     "execution_count": 753,
     "metadata": {},
     "output_type": "execute_result"
    }
   ],
   "source": [
    "register.add([positions.iloc[0,0] * micro_meter , positions.iloc[0,1] * micro_meter] )\n",
    "register.add([positions.iloc[1,0] * micro_meter , positions.iloc[1,1] * micro_meter] )\n",
    "register.add([positions.iloc[2,0] * micro_meter , positions.iloc[2,1] * micro_meter] )\n",
    "register.add([positions.iloc[3,0] * micro_meter , positions.iloc[3,1] * micro_meter] )"
   ]
  },
  {
   "cell_type": "code",
   "execution_count": 754,
   "metadata": {},
   "outputs": [],
   "source": [
    "from braket.ahs.driving_field import DrivingField\n",
    "\n",
    "# e.g. all-zero phase and detuning\n",
    "phi = TimeSeries().put(0.0, 0.0).put(t_max, 0.0)  # (time [s], value [rad])\n",
    "Delta_global = TimeSeries().put(0.0, params.iloc[0, 3]*megahertz).put(t_max, params.iloc[0, 3]*megahertz)  # (time [s], value [rad/s])\n",
    "\n",
    "drive = DrivingField(\n",
    "    amplitude=results_RF,\n",
    "    phase=phi,\n",
    "    detuning=Delta_global\n",
    ")\n",
    "\n",
    "H += drive"
   ]
  },
  {
   "cell_type": "code",
   "execution_count": 755,
   "metadata": {},
   "outputs": [],
   "source": [
    "from braket.ahs.field import Field\n",
    "from braket.ahs.pattern import Pattern\n",
    "from braket.ahs.local_detuning import LocalDetuning\n",
    "\n",
    "# e.g. the local detuning only acts on the third atom, \n",
    "# which is the top atom in the triangular array.\n",
    "h = Pattern(pattern['h'].to_list())\n",
    "\n",
    "local_detuning = LocalDetuning(\n",
    "    magnitude=Field(\n",
    "        time_series=results_lclDetune,\n",
    "        pattern=h\n",
    "    )\n",
    ")\n",
    "\n",
    "H += local_detuning"
   ]
  },
  {
   "cell_type": "code",
   "execution_count": null,
   "metadata": {},
   "outputs": [],
   "source": []
  },
  {
   "cell_type": "code",
   "execution_count": 756,
   "metadata": {},
   "outputs": [],
   "source": [
    "from braket.aws import AwsDevice, AwsSession\n",
    "from braket.devices import Devices\n",
    "from pprint import pprint as pp\n",
    "\n",
    "device = AwsDevice(Devices.QuEra.Aquila)\n",
    "capabilities = device.properties.paradigm\n",
    "# pp(capabilities.dict())"
   ]
  },
  {
   "cell_type": "code",
   "execution_count": 757,
   "metadata": {},
   "outputs": [],
   "source": [
    "discretized_ahs_program = ahs_program.discretize(device)"
   ]
  },
  {
   "cell_type": "code",
   "execution_count": 758,
   "metadata": {},
   "outputs": [
    {
     "data": {
      "text/plain": [
       "Program(braketSchemaHeader=BraketSchemaHeader(name='braket.ir.ahs.program', version='1'), setup=Setup(ahs_register=AtomArrangement(sites=[[Decimal('0.0000749999'), Decimal('0.00007420489904109493')], [Decimal('0.00006860687632452519'), Decimal('0.000050048794539297046')], [Decimal('0.0000746736740602521'), Decimal('0.00005963885855330911')], [Decimal('0.000054137528091259605'), Decimal('0.00007420489904109493')]], filling=[1, 1, 1, 1])), hamiltonian=Hamiltonian(drivingFields=[DrivingField(amplitude=PhysicalField(time_series=TimeSeries(values=[Decimal('0.0'), Decimal('15799000.0'), Decimal('15799000.0'), Decimal('15799000.0'), Decimal('15799000.0'), Decimal('15799000.0'), Decimal('15799000.0'), Decimal('15799000.0'), Decimal('15799000.0'), Decimal('15799000.0'), Decimal('15799000.0'), Decimal('15799000.0'), Decimal('15799000.0'), Decimal('15799000.0'), Decimal('15799000.0'), Decimal('15799000.0'), Decimal('15799000.0'), Decimal('15799000.0'), Decimal('15799000.0'), Decimal('0.0')], times=[Decimal('0.0'), Decimal('5.2631578947368416E-8'), Decimal('1.0526315789473683E-7'), Decimal('1.5789473684210525E-7'), Decimal('2.1052631578947366E-7'), Decimal('2.631578947368421E-7'), Decimal('3.157894736842105E-7'), Decimal('3.684210526315789E-7'), Decimal('4.2105263157894733E-7'), Decimal('4.7368421052631574E-7'), Decimal('5.263157894736842E-7'), Decimal('5.789473684210526E-7'), Decimal('6.31578947368421E-7'), Decimal('6.842105263157894E-7'), Decimal('7.368421052631578E-7'), Decimal('7.894736842105263E-7'), Decimal('8.421052631578947E-7'), Decimal('8.94736842105263E-7'), Decimal('9.473684210526315E-7'), Decimal('0.000001')]), pattern='uniform'), phase=PhysicalField(time_series=TimeSeries(values=[Decimal('0.0'), Decimal('0.0')], times=[Decimal('0.0'), Decimal('0.000001')]), pattern='uniform'), detuning=PhysicalField(time_series=TimeSeries(values=[Decimal('124999900.0'), Decimal('124999900.0')], times=[Decimal('0.0'), Decimal('0.000001')]), pattern='uniform'))], localDetuning=[LocalDetuning(magnitude=PhysicalField(time_series=TimeSeries(values=[Decimal('0.0'), Decimal('-14121203.587600285'), Decimal('-26830286.816440545'), Decimal('-26830286.816440545'), Decimal('-28552560.73194158'), Decimal('-37163930.3094468'), Decimal('-45775299.88695201'), Decimal('-54386669.46445723'), Decimal('-62998039.041962445'), Decimal('-71609408.61946766'), Decimal('-80220778.19697288'), Decimal('-88832147.77447811'), Decimal('-97443517.35198332'), Decimal('-106054886.92948852'), Decimal('-114666256.50699373'), Decimal('-123277626.08449897'), Decimal('-124999900.0'), Decimal('-124999900.0'), Decimal('-65789421.05263168'), Decimal('0.0')], times=[Decimal('0.0'), Decimal('5.2631578947368416E-8'), Decimal('1.0526315789473683E-7'), Decimal('1.5789473684210525E-7'), Decimal('2.1052631578947366E-7'), Decimal('2.631578947368421E-7'), Decimal('3.157894736842105E-7'), Decimal('3.684210526315789E-7'), Decimal('4.2105263157894733E-7'), Decimal('4.7368421052631574E-7'), Decimal('5.263157894736842E-7'), Decimal('5.789473684210526E-7'), Decimal('6.31578947368421E-7'), Decimal('6.842105263157894E-7'), Decimal('7.368421052631578E-7'), Decimal('7.894736842105263E-7'), Decimal('8.421052631578947E-7'), Decimal('8.94736842105263E-7'), Decimal('9.473684210526315E-7'), Decimal('0.000001')]), pattern=[Decimal('0.99999999'), Decimal('0.99'), Decimal('0.99'), Decimal('0.99')]))]))"
      ]
     },
     "execution_count": 758,
     "metadata": {},
     "output_type": "execute_result"
    }
   ],
   "source": [
    "ahs_program.to_ir()"
   ]
  },
  {
   "cell_type": "code",
   "execution_count": 759,
   "metadata": {},
   "outputs": [],
   "source": [
    "n_shots = 1000"
   ]
  },
  {
   "cell_type": "code",
   "execution_count": 760,
   "metadata": {},
   "outputs": [],
   "source": [
    "task = device.run(discretized_ahs_program, shots=n_shots)"
   ]
  },
  {
   "cell_type": "code",
   "execution_count": 713,
   "metadata": {},
   "outputs": [
    {
     "data": {
      "text/html": [
       "<div>\n",
       "<style scoped>\n",
       "    .dataframe tbody tr th:only-of-type {\n",
       "        vertical-align: middle;\n",
       "    }\n",
       "\n",
       "    .dataframe tbody tr th {\n",
       "        vertical-align: top;\n",
       "    }\n",
       "\n",
       "    .dataframe thead th {\n",
       "        text-align: right;\n",
       "    }\n",
       "</style>\n",
       "<table border=\"1\" class=\"dataframe\">\n",
       "  <thead>\n",
       "    <tr style=\"text-align: right;\">\n",
       "      <th></th>\n",
       "      <th>x</th>\n",
       "      <th>y</th>\n",
       "    </tr>\n",
       "  </thead>\n",
       "  <tbody>\n",
       "    <tr>\n",
       "      <th>0</th>\n",
       "      <td>74.999900</td>\n",
       "      <td>74.204899</td>\n",
       "    </tr>\n",
       "    <tr>\n",
       "      <th>1</th>\n",
       "      <td>68.606876</td>\n",
       "      <td>50.048795</td>\n",
       "    </tr>\n",
       "    <tr>\n",
       "      <th>2</th>\n",
       "      <td>74.673674</td>\n",
       "      <td>59.638859</td>\n",
       "    </tr>\n",
       "    <tr>\n",
       "      <th>3</th>\n",
       "      <td>54.137528</td>\n",
       "      <td>73.489248</td>\n",
       "    </tr>\n",
       "  </tbody>\n",
       "</table>\n",
       "</div>"
      ],
      "text/plain": [
       "           x          y\n",
       "0  74.999900  74.204899\n",
       "1  68.606876  50.048795\n",
       "2  74.673674  59.638859\n",
       "3  54.137528  73.489248"
      ]
     },
     "execution_count": 713,
     "metadata": {},
     "output_type": "execute_result"
    }
   ],
   "source": [
    "positions"
   ]
  },
  {
   "cell_type": "markdown",
   "metadata": {},
   "source": [
    "The task ARN will let you retrieve results after they are run. Make sure to note which ARN corresponds to which class, pulse shape, and noise seed combination"
   ]
  },
  {
   "cell_type": "code",
   "execution_count": null,
   "metadata": {},
   "outputs": [],
   "source": [
    "metadata = task.metadata()\n",
    "task_arn = metadata['quantumTaskArn']\n",
    "task_status = metadata['status']\n",
    "\n",
    "print(f\"ARN: {task_arn}\")\n",
    "print(f\"status: {task_status}\")"
   ]
  }
 ],
 "metadata": {
  "kernelspec": {
   "display_name": ".venv",
   "language": "python",
   "name": "python3"
  },
  "language_info": {
   "codemirror_mode": {
    "name": "ipython",
    "version": 3
   },
   "file_extension": ".py",
   "mimetype": "text/x-python",
   "name": "python",
   "nbconvert_exporter": "python",
   "pygments_lexer": "ipython3",
   "version": "3.12.1"
  }
 },
 "nbformat": 4,
 "nbformat_minor": 2
}
